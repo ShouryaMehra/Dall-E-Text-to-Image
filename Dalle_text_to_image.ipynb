{
  "nbformat": 4,
  "nbformat_minor": 0,
  "metadata": {
    "colab": {
      "provenance": [],
      "machine_shape": "hm"
    },
    "kernelspec": {
      "name": "python3",
      "display_name": "Python 3"
    },
    "language_info": {
      "name": "python"
    },
    "gpuClass": "premium",
    "accelerator": "GPU"
  },
  "cells": [
    {
      "cell_type": "markdown",
      "source": [
        "# Generate Text to Image\n",
        "\n",
        "Further convert images to GIF"
      ],
      "metadata": {
        "id": "ES1LWL6HgAfM"
      }
    },
    {
      "cell_type": "code",
      "source": [
        "!pip install split-image\n",
        "!pip install min-dalle"
      ],
      "metadata": {
        "id": "l2hR_-zjJZTy"
      },
      "execution_count": null,
      "outputs": []
    },
    {
      "cell_type": "code",
      "source": [
        "from IPython.display import display, update_display # we use this to show images.\n",
        "import torch\n",
        "from min_dalle import MinDalle # dalle mini library\n",
        "from PIL import Image\n",
        "from split_image import split_image\n",
        "import glob\n",
        "import imageio\n",
        "import os"
      ],
      "metadata": {
        "id": "slRxZGFpOu98"
      },
      "execution_count": null,
      "outputs": []
    },
    {
      "cell_type": "code",
      "source": [
        "try:\n",
        "  os.makedirs('Temp_grid_image')\n",
        "except:\n",
        "  pass\n",
        "try:\n",
        "  os.makedirs('Split_grid')\n",
        "except:\n",
        "  pass\n",
        "try:\n",
        "  os.makedirs('Output_GIF')\n",
        "except:\n",
        "  pass"
      ],
      "metadata": {
        "id": "gQlri8ssOPzA"
      },
      "execution_count": null,
      "outputs": []
    },
    {
      "cell_type": "code",
      "source": [
        "# import model text to image model\n",
        "model = MinDalle(\n",
        "    dtype=torch.float16, # float16 is faster than float32, though float32 will generate better images\n",
        "    device = None, # set this to None if you don't have GPU else cuda\n",
        "    is_mega = True, # set it to False if you don't want to use large model\n",
        "    is_reusable=True\n",
        ")"
      ],
      "metadata": {
        "id": "5EJfK4dFPEhH",
        "colab": {
          "base_uri": "https://localhost:8080/"
        },
        "outputId": "cd2bd6dc-0dba-4e52-81b5-9890fccd3c9f"
      },
      "execution_count": null,
      "outputs": [
        {
          "output_type": "stream",
          "name": "stdout",
          "text": [
            "using device cuda\n",
            "downloading tokenizer params\n",
            "intializing TextTokenizer\n",
            "downloading encoder params\n",
            "initializing DalleBartEncoder\n",
            "downloading decoder params\n",
            "initializing DalleBartDecoder\n",
            "downloading detokenizer params\n",
            "initializing VQGanDetokenizer\n"
          ]
        }
      ]
    },
    {
      "cell_type": "code",
      "source": [
        "# Generate Text to GIF\n",
        "def generate_text_to_img(model, text):\n",
        "    # parameters\n",
        "    text = text\n",
        "    progressive_outputs = True # It will keep generating and improving the images\n",
        "    seamless = False # set it to True if you want to mix all images\n",
        "    grid_size = 2 # generates 3x3 grid of images\n",
        "    temperature = 9\n",
        "    supercondition_factor = 32\n",
        "    top_k = 256\n",
        "    \n",
        "    # generate image\n",
        "    image_stream = model.generate_image_stream(\n",
        "    text=text,\n",
        "    seed=-1,\n",
        "    grid_size = grid_size,\n",
        "    progressive_outputs = progressive_outputs,\n",
        "    is_seamless = seamless,\n",
        "    temperature=temperature,\n",
        "    top_k = int(top_k),\n",
        "    supercondition_factor = supercondition_factor,\n",
        "    is_verbose=False\n",
        "    )\n",
        "    \n",
        "    # save image\n",
        "    for image in image_stream:\n",
        "        image.save('/content/Temp_grid_image/img.png')\n",
        "        \n",
        "    # split grid image into 3x3\n",
        "    split_image(\"Temp_grid_image/img.png\",rows = 3,cols = 3,should_square = True, should_cleanup = False,output_dir = \"Split_grid/\")\n",
        "    \n",
        "    # generte GIF\n",
        "    images = []\n",
        "    for filepath in glob.iglob('Split_grid/*.png'):\n",
        "      if \"squared\" not in filepath:\n",
        "        images.append(imageio.imread(filepath))\n",
        "    \n",
        "    imageio.mimsave('Output_GIF/out.gif', images,format='GIF',duration=0.7) # generate gif\n",
        "    \n",
        "    return \"Pass\""
      ],
      "metadata": {
        "id": "II7-T0NmH0av"
      },
      "execution_count": null,
      "outputs": []
    },
    {
      "cell_type": "code",
      "source": [
        "%%time\n",
        "text = \"produce a paint image generated by AI\"\n",
        "\n",
        "generate_text_to_img(model,text)"
      ],
      "metadata": {
        "colab": {
          "base_uri": "https://localhost:8080/",
          "height": 296
        },
        "id": "MliS4l5EH3ik",
        "outputId": "4a200896-c714-4b78-fdb6-f6b7121ed9a3"
      },
      "execution_count": null,
      "outputs": [
        {
          "output_type": "stream",
          "name": "stdout",
          "text": [
            "Resizing image to a square...\n",
            "Determining background color...\n",
            "Background color is... (0, 0, 0, 255)\n",
            "Exporting resized image...\n",
            "Exporting image tile: Split_grid/img_0.png\n",
            "Exporting image tile: Split_grid/img_1.png\n",
            "Exporting image tile: Split_grid/img_2.png\n",
            "Exporting image tile: Split_grid/img_3.png\n",
            "Exporting image tile: Split_grid/img_4.png\n",
            "Exporting image tile: Split_grid/img_5.png\n",
            "Exporting image tile: Split_grid/img_6.png\n",
            "Exporting image tile: Split_grid/img_7.png\n",
            "Exporting image tile: Split_grid/img_8.png\n",
            "CPU times: user 15.6 s, sys: 247 ms, total: 15.8 s\n",
            "Wall time: 15.7 s\n"
          ]
        },
        {
          "output_type": "execute_result",
          "data": {
            "text/plain": [
              "'Pass'"
            ],
            "application/vnd.google.colaboratory.intrinsic+json": {
              "type": "string"
            }
          },
          "metadata": {},
          "execution_count": 12
        }
      ]
    },
    {
      "cell_type": "code",
      "source": [],
      "metadata": {
        "id": "8Yz_nZRoH6ML"
      },
      "execution_count": null,
      "outputs": []
    },
    {
      "cell_type": "code",
      "source": [],
      "metadata": {
        "id": "ByP59FEWNXh7"
      },
      "execution_count": null,
      "outputs": []
    }
  ]
}